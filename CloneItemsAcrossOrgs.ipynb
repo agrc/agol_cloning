{
 "cells": [
  {
   "cell_type": "code",
   "execution_count": 1,
   "metadata": {},
   "outputs": [],
   "source": [
    "import arcgis\n",
    "from collections import defaultdict"
   ]
  },
  {
   "cell_type": "markdown",
   "metadata": {},
   "source": [
    "# Supporting functions and class"
   ]
  },
  {
   "cell_type": "code",
   "execution_count": 6,
   "metadata": {},
   "outputs": [],
   "source": [
    "def get_users_folders_and_items(gis, username):\n",
    "    \"\"\"Create a dictionary containing every folder and a list of references to its items\n",
    "    \"\"\"\n",
    "    user = gis.users.get(username)\n",
    "    user_folders = [folder['title'] for folder in user.folders]\n",
    "    user_folders.append(None)\n",
    "    \n",
    "    folders_and_items = {}\n",
    "    for folder in user_folders:\n",
    "        folders_and_items[folder] = []\n",
    "        for item in user.items(folder, 1000):\n",
    "            folders_and_items[folder].append(item)\n",
    "        folders_and_items[folder].sort(key=lambda x:x.type)\n",
    "    \n",
    "    return folders_and_items"
   ]
  },
  {
   "cell_type": "code",
   "execution_count": 7,
   "metadata": {},
   "outputs": [],
   "source": [
    "def print_items(folders_and_items):\n",
    "    \"\"\"Pretty formatting for a dictionary of folders and their items \n",
    "    \"\"\"\n",
    "    item_total = 0\n",
    "    item_type_counts = defaultdict(int)\n",
    "    for folder, items in folders_and_items.items():\n",
    "        print(folder)\n",
    "        print('='*15)\n",
    "        for item in items:\n",
    "            print(f'{item.title:<50} {item.type:>30}')\n",
    "            item_type_counts[item.type] += 1\n",
    "        item_total += len(items)\n",
    "        print()\n",
    "    \n",
    "    item_type_counts = dict(sorted(item_type_counts.items(), key=lambda item:item[1]))\n",
    "    \n",
    "    print('Totals:')\n",
    "    print('='*15)\n",
    "    print(f'Folders: {len(folders_and_items)}')\n",
    "    print(f'Items: {item_total}')\n",
    "    print()\n",
    "    for item_type, count in item_type_counts.items():\n",
    "        print(f'{item_type:<20} {count:>30}')\n",
    "        \n",
    "    "
   ]
  },
  {
   "cell_type": "code",
   "execution_count": 8,
   "metadata": {},
   "outputs": [],
   "source": [
    "def clone_folder(target_gis, folder_name, items_in_folder):\n",
    "    \"\"\"Clones a folder's items, attempting to do most complex items first (apps -> maps -> services -> everything else). Will\n",
    "    skip any items that error out and move on to the next.\n",
    "    \n",
    "    target_gis: The AGOL org the content should be cloned into\n",
    "    folder_name: The folder name (as a str) to clone\n",
    "    items_in_folder: List of item objects associated with folder_name\n",
    "    \n",
    "    Returns:\n",
    "    cloned_items: List of all item objects returned by target_gis.content.clone_items() (will include any dependencies of the \n",
    "                  actual item being cloned)\n",
    "    errored_items: Any items from items_in_folder that raised an error during copy (which could be caused by the item itself\n",
    "                   or any of its dependnecies)\n",
    "    \"\"\"\n",
    "    \n",
    "    #: hold officially cloned items to return for later review\n",
    "    cloned_items = []\n",
    "    \n",
    "    #: items that error out\n",
    "    errored_items = []\n",
    "    \n",
    "    #: Pre-populate the types list with complex types so that they clone any dependancies along the way\n",
    "    types = ['Web Mapping Application', 'Web Map', 'Feature Service']\n",
    "    \n",
    "    #: Translate our list of items into a dictionary based on item.type\n",
    "    items_by_type = defaultdict(list)\n",
    "    for item in items_in_folder:\n",
    "        items_by_type[item.type].append(item)\n",
    "        \n",
    "        #: Add the type to our list of types\n",
    "        if item.type not in types:\n",
    "            types.append(item.type)\n",
    "    \n",
    "    #: Use list of types to clone items in desired order (complex -> simple)\n",
    "    for item_type in types:\n",
    "        if item_type in items_by_type:\n",
    "            for item in items_by_type[item_type]:\n",
    "                print(item)\n",
    "                try:\n",
    "                    cloned_items.extend(target_gis.content.clone_items([item], folder=folder_name))\n",
    "                except Exception as e:\n",
    "                    print(e)  #: Watch this to see what item caused the error; often caused by depenancies.\n",
    "                    errored_items.append(item)\n",
    "    \n",
    "    return cloned_items, errored_items"
   ]
  },
  {
   "cell_type": "code",
   "execution_count": 9,
   "metadata": {},
   "outputs": [],
   "source": [
    "class CloningTank:\n",
    "    \"\"\"Clones folders and keeps track of items by success/failure. A folder can have individual items error out without\n",
    "    having 'failed'. \n",
    "    \"\"\"\n",
    "\n",
    "    def __init__(self, username):\n",
    "        self.username = username\n",
    "        self.folders_and_items = None\n",
    "        self.completed_folders = []\n",
    "        self.remaining_folders = []\n",
    "        self.errored_items_by_folders = defaultdict(list)\n",
    "        self.cloned_items_by_folder = defaultdict(list)\n",
    "        \n",
    "    def get_items(self, source_gis):\n",
    "        \"\"\"Load items by folder from source_gis only if there are no existing folders/items.\n",
    "        \"\"\"\n",
    "        \n",
    "        self.folders_and_items = get_users_folders_and_items(source_gis, self.username)\n",
    "        if not self.remaining_folders:\n",
    "            self.remaining_folders.extend(self.folders_and_items.keys())\n",
    "        else:\n",
    "            print('self.remaining_folders not empty; not modified')\n",
    "        \n",
    "    def print_users_items(self):\n",
    "        print_items(self.folders_and_items)\n",
    "        \n",
    "    def clone_folders(self, target_gis, foldernames):\n",
    "        \"\"\"Clone foldernames into target_gis. foldernames can either be a single str or a list of str's.\n",
    "        \"\"\"\n",
    "        \n",
    "        if isinstance(foldernames, str):\n",
    "            foldernames = [foldernames]\n",
    "        \n",
    "        #: Don't try to clone finished folders. Duplication in the target_gis doesn't seem to be an issue, but not spending\n",
    "        #: time on completed folders may speed things up.\n",
    "        for foldername in foldernames:\n",
    "            if foldername in self.completed_folders:\n",
    "                print(f'{foldername} already cloned; skipping')\n",
    "                continue\n",
    "\n",
    "            try:\n",
    "                self.cloned_items_by_folder[foldername], self.errored_items_by_folders[foldername] = clone_folder(target_gis, foldername, self.folders_and_items[foldername])\n",
    "            \n",
    "            #: Any errors in cloning items via clone_items() should have been properly handled by clone_folder(); this \n",
    "            #: will catch any other errors that may occur and will stop the folder from continuing.\n",
    "            except Exception as e:\n",
    "                print(e)\n",
    "                \n",
    "            #: If (and only if) try succeeds, move the folder from remaining to completed.\n",
    "            else:  \n",
    "                self.completed_folders.append(foldername)\n",
    "                self.remaining_folders.remove(foldername)\n",
    "                \n",
    "    def print_cloned_items_by_folder(self):\n",
    "        print_items(self.cloned_items_by_folder)\n",
    "        \n",
    "    def print_errored_items_by_folder(self):\n",
    "        print_items(self.errored_items_by_folders)\n"
   ]
  },
  {
   "cell_type": "markdown",
   "metadata": {},
   "source": [
    "# Cloning Process"
   ]
  },
  {
   "cell_type": "code",
   "execution_count": null,
   "metadata": {},
   "outputs": [],
   "source": [
    "#: Set up source \n",
    "source_user = 'UtahAGRC'\n",
    "source_url = 'https://utah.maps.arcgis.com'\n",
    "source_gis = arcgis.gis.GIS(source_url, source_user)\n",
    "\n",
    "#: Set up target. \n",
    "#: _admin can be any org admin or the user whose content you want to clone.\n",
    "destination_admin = 'username'\n",
    "destination_url = 'https://someonesomething.maps.arcgis.com'\n",
    "destination_gis = arcgis.gis.GIS(destination_url, destination_admin)\n",
    "#: The user whose data you want to clone; may or may not be the same as the admin.\n",
    "users_data_to_clone = 'username'\n"
   ]
  },
  {
   "cell_type": "code",
   "execution_count": null,
   "metadata": {},
   "outputs": [],
   "source": [
    "#: Create a CloningTank for our user and get their items.\n",
    "user = CloningTank(users_data_to_clone)\n",
    "user.get_items(source_gis)\n"
   ]
  },
  {
   "cell_type": "code",
   "execution_count": null,
   "metadata": {},
   "outputs": [],
   "source": [
    "#: Can either specify the folder(s) to copy, or just pass user.remanining_folders (initially populated by get_items())\n",
    "user.clone_folders(destination_gis, 'Folder Name')\n",
    "user.clone_folders(destination_gis, ['Folder one', 'Folder two'])\n",
    "user.clone_folders(destination_gis, user.remaining_folders)"
   ]
  },
  {
   "cell_type": "code",
   "execution_count": null,
   "metadata": {},
   "outputs": [],
   "source": [
    "#: The root folder (None) is added to the list of folders as part of get_items(). To clone individually, you have to pass a \n",
    "#: list containing None:\n",
    "user.clone_folders(destination_gis, [None])"
   ]
  },
  {
   "cell_type": "code",
   "execution_count": null,
   "metadata": {},
   "outputs": [],
   "source": [
    "#: If you need to try to clone a folder a second time, you'll have to manually remove it from user.completed_folders\n",
    "#: before cloning it again (.clone_folders() won't clone a folder that's in .completed_folders)\n",
    "user.completed_folders.remove('Folder one')\n",
    "user.clone_folders(destination_gis, 'Folder one')"
   ]
  },
  {
   "cell_type": "code",
   "execution_count": null,
   "metadata": {},
   "outputs": [],
   "source": [
    "#: Print formatted info about the folders\n",
    "user.print_users_items()  #: All the source folders and items\n",
    "user.print_cloned_items_by_folder()  #: All the items cloned via clone_items(); will contain any dependent items \n",
    "user.print_errored_items()  #: Any parent items that failed to clone due to errors in itself or any of its dependents"
   ]
  }
 ],
 "metadata": {
  "kernelspec": {
   "display_name": "Python 3",
   "language": "python",
   "name": "python3"
  },
  "language_info": {
   "codemirror_mode": {
    "name": "ipython",
    "version": 3
   },
   "file_extension": ".py",
   "mimetype": "text/x-python",
   "name": "python",
   "nbconvert_exporter": "python",
   "pygments_lexer": "ipython3",
   "version": "3.7.10"
  }
 },
 "nbformat": 4,
 "nbformat_minor": 4
}
